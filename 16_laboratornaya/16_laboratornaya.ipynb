{
 "cells": [
  {
   "cell_type": "markdown",
   "id": "c2148e9f",
   "metadata": {},
   "source": [
    "## 1. Challenge"
   ]
  },
  {
   "cell_type": "code",
   "execution_count": 7,
   "id": "419b3b84",
   "metadata": {},
   "outputs": [
    {
     "name": "stdout",
     "output_type": "stream",
     "text": [
      "1 2 3 4 5 "
     ]
    }
   ],
   "source": [
    "def fun(num):\n",
    "    if num != 0:\n",
    "        fun(num - 1)\n",
    "        print(num, end=' ')\n",
    "        \n",
    "\n",
    "num = 5\n",
    "fun(num)"
   ]
  },
  {
   "cell_type": "markdown",
   "id": "51166aa2",
   "metadata": {},
   "source": [
    "## 2. Your zip"
   ]
  },
  {
   "cell_type": "code",
   "execution_count": 17,
   "id": "3906e89b",
   "metadata": {},
   "outputs": [
    {
     "name": "stdout",
     "output_type": "stream",
     "text": [
      "1-й объект данных(строка): abcd\n",
      "2-й объект данных(лист, кортеж, словарь): 1234\n",
      "['23']\n",
      "[('a', '23')]\n"
     ]
    }
   ],
   "source": [
    "def zip_func(obj_1, obj_2):\n",
    "    my_dict = {obj_1[i] : obj_2[i] for i in range(min(len(obj_1), len(obj_2)))}\n",
    "    return print([(elem_1, elem_2) for elem_1, elem_2 in my_dict.items()])\n",
    " \n",
    "\n",
    "obj_1 = 'abcd'\n",
    "obj_2 = (10, 20, 30, 40, 50)\n",
    "zip_func(obj_1, obj_2)"
   ]
  },
  {
   "cell_type": "markdown",
   "id": "2dcff599",
   "metadata": {},
   "source": [
    "## 3. Fibonacci numbers"
   ]
  },
  {
   "cell_type": "code",
   "execution_count": 18,
   "id": "71743a98",
   "metadata": {},
   "outputs": [
    {
     "name": "stdout",
     "output_type": "stream",
     "text": [
      "Введите позицию числа Фибоначчи: 10\n",
      "Число: 55\n"
     ]
    }
   ],
   "source": [
    "def fun(i):\n",
    "    if i == 1 or i == 2:\n",
    "        num_fib = 1\n",
    "    else:\n",
    "        num_fib = fun(i - 1) + fun(i - 2)       \n",
    "    return num_fib\n",
    "\n",
    "\n",
    "num_pos = int(input('Введите позицию числа Фибоначчи: '))\n",
    "for i in range(1, num_pos):\n",
    "    num_fib = fun(i)\n",
    "print('Число:', fun(num_pos))"
   ]
  },
  {
   "cell_type": "markdown",
   "id": "08d1cdf7",
   "metadata": {},
   "source": [
    "## 4. Element search"
   ]
  },
  {
   "cell_type": "code",
   "execution_count": 22,
   "id": "e257aa2d",
   "metadata": {},
   "outputs": [
    {
     "name": "stdout",
     "output_type": "stream",
     "text": [
      "Введите ключ: body\n",
      "Укажите глубину поиска: 2\n",
      "{'h2': 'Здесь будет мой заголовок', 'div': 'Тут, наверное, какой-то блок', 'p': 'А вот здесь новый абзац'}\n"
     ]
    }
   ],
   "source": [
    "def search(web_site, key, level = 3):\n",
    "    required_value = 'No key'\n",
    "    if key in web_site.keys():\n",
    "        required_value = web_site[key]\n",
    "        return required_value\n",
    "    if level > 1:\n",
    "        for next_level_element in web_site.values():\n",
    "            if isinstance(next_level_element, dict):\n",
    "                if next_level_element == key:\n",
    "                    required_value = next_level_element.values()\n",
    "                else:\n",
    "                    required_value = search(next_level_element, key, level-1)\n",
    "                if required_value != 'No key':\n",
    "                    break\n",
    "    return required_value\n",
    "\n",
    "\n",
    "site = {\n",
    "    'html': {\n",
    "        'head': {\n",
    "            'title': 'Мой сайт'\n",
    "        },\n",
    "        'body': {\n",
    "            'h2': 'Здесь будет мой заголовок',\n",
    "            'div': 'Тут, наверное, какой-то блок',\n",
    "            'p': 'А вот здесь новый абзац'\n",
    "        }\n",
    "    }\n",
    "}\n",
    "\n",
    "my_key = input('Введите ключ: ')\n",
    "my_level = int(input('Укажите глубину поиска: '))\n",
    "print(search(site, my_key, my_level))"
   ]
  },
  {
   "cell_type": "markdown",
   "id": "fbfb2c33",
   "metadata": {},
   "source": [
    "## 5. Speed up the function"
   ]
  },
  {
   "cell_type": "code",
   "execution_count": 32,
   "id": "f9d6cb24",
   "metadata": {},
   "outputs": [
    {
     "name": "stdout",
     "output_type": "stream",
     "text": [
      "5.499366670846939e-05\n"
     ]
    }
   ],
   "source": [
    "def calculating_math_func(data, container = [1, 1]):\n",
    "    if data in container:\n",
    "        result = container[data]\n",
    "    else:\n",
    "        result = container[-1]\n",
    "        for i in range(container[-1] + 1, data + 1):\n",
    "            result *= i\n",
    "            container.append(result)\n",
    "    result /= data ** 3\n",
    "    result = result ** 10\n",
    "    return result\n",
    "\n",
    "\n",
    "print(calculating_math_func(4))"
   ]
  },
  {
   "cell_type": "markdown",
   "id": "152eb816",
   "metadata": {},
   "source": [
    "## 6. Deep copy"
   ]
  },
  {
   "cell_type": "code",
   "execution_count": 33,
   "id": "6c552786",
   "metadata": {},
   "outputs": [
    {
     "name": "stdout",
     "output_type": "stream",
     "text": [
      "Сколько сайтов: 2\n",
      "Введите название продукта для нового сайта: iPhone\n",
      "\n",
      "\n",
      "Сайт для iPhone:\n",
      "{'html': {'head': {'title': 'Куплю/продам iPhone недорого'}, 'body': {'h2': 'У нас самая низкая цена на iPhone', 'div': 'Купить', 'p': 'Продать'}}} \n",
      "\n",
      "\n",
      "Введите название продукта для нового сайта: Samsung\n",
      "\n",
      "\n",
      "Сайт для Samsung:\n",
      "{'html': {'head': {'title': 'Куплю/продам Samsung недорого'}, 'body': {'h2': 'У нас самая низкая цена на Samsung', 'div': 'Купить', 'p': 'Продать'}}} \n",
      "\n",
      "\n"
     ]
    }
   ],
   "source": [
    "def new_site(cliche, name):\n",
    "    site_n = cliche\n",
    "    site_n['html']['head']['title'] = str('Куплю/продам ' + name + ' недорого')\n",
    "    site_n['html']['body']['h2'] = str('У нас самая низкая цена на ' + name)\n",
    "    return site_n\n",
    "\n",
    "\n",
    "site = {\n",
    "    'html': {\n",
    "        'head': {\n",
    "            'title': 'Куплю/продам телефон недорого'\n",
    "        },\n",
    "        'body': {\n",
    "            'h2': 'У нас самая низкая цена на iPhone',\n",
    "            'div': 'Купить',\n",
    "            'p': 'Продать'\n",
    "        }\n",
    "    }\n",
    "}\n",
    "\n",
    "N = int(input('Сколько сайтов: '))\n",
    "for i in range(N):\n",
    "    name_of_product = input('Введите название продукта для нового сайта: ')\n",
    "    print('\\n\\nСайт для ' + name_of_product + ':')\n",
    "    print(new_site(site, name_of_product), '\\n\\n')"
   ]
  },
  {
   "cell_type": "markdown",
   "id": "21a2e61e",
   "metadata": {},
   "source": [
    "## 7. Advanced function 'sum'"
   ]
  },
  {
   "cell_type": "code",
   "execution_count": 37,
   "id": "3083f4e4",
   "metadata": {},
   "outputs": [
    {
     "name": "stdout",
     "output_type": "stream",
     "text": [
      "Ответ: 15\n",
      "Ответ: 10\n"
     ]
    }
   ],
   "source": [
    "from typing import Iterable\n",
    "\n",
    "\n",
    "def advanced_sum(*param_f):\n",
    "    summa = 0\n",
    "    for elem in param_f:\n",
    "        if isinstance(elem, Iterable):\n",
    "            summa += advanced_sum(*elem)\n",
    "        else:\n",
    "            summa += elem\n",
    "    return summa\n",
    "    \n",
    "\n",
    "print('Ответ:', advanced_sum(1, 2, 3, 4, 5))\n",
    "\n",
    "print('Ответ:', advanced_sum([[1, 2, [3]], [1], 3]))"
   ]
  },
  {
   "cell_type": "markdown",
   "id": "ede07f12",
   "metadata": {},
   "source": [
    "## 8. List of lists"
   ]
  },
  {
   "cell_type": "code",
   "execution_count": 34,
   "id": "62f7b2de",
   "metadata": {},
   "outputs": [
    {
     "name": "stdout",
     "output_type": "stream",
     "text": [
      "[1, 2, 3, 4, 5, 6, 7, 8, 9, 10, 11, 12, 13, 14, 15, 16, 17, 18]\n"
     ]
    }
   ],
   "source": [
    "def list_disclosure(lst_f):\n",
    "    for j in lst_f:\n",
    "        if isinstance(j, list):\n",
    "            list_disclosure(j)\n",
    "        else:\n",
    "            new.append(j)\n",
    "\n",
    "\n",
    "nice_list = [1, 2, [3, 4], [[5, 6, 7], [8, 9, 10]], [[11, 12, 13], [14, 15], [16, 17, 18]]]\n",
    "new = []\n",
    "for i in nice_list:\n",
    "    if isinstance(i, list):\n",
    "            list_disclosure(i)\n",
    "    else:\n",
    "        new.append(i)\n",
    "print(new)"
   ]
  },
  {
   "cell_type": "markdown",
   "id": "38e9c2ec",
   "metadata": {},
   "source": [
    "## 9. Tower of Hanoi"
   ]
  },
  {
   "cell_type": "code",
   "execution_count": 31,
   "id": "f2f3f1d1",
   "metadata": {},
   "outputs": [
    {
     "name": "stdout",
     "output_type": "stream",
     "text": [
      "Введите количество дисков: 2\n",
      "Переложить диск 1 со стержня номер 1 на стержень номер 2\n",
      "Переложить диск 2 со стержня номер 1 на стержень номер 3\n",
      "Переложить диск 1 со стержня номер 2 на стержень номер 3\n"
     ]
    }
   ],
   "source": [
    "def move(n, x, y):\n",
    "    if n == 1:\n",
    "        print('Переложить диск 1 со стержня номер {} на стержень номер {}'.format(x, y))\n",
    "    else:\n",
    "        move(n-1, x, 6-x-y)\n",
    "        print('Переложить диск {} со стержня номер {} на стержень номер {}'.format(n, x, y))\n",
    "        move(n-1, 6-x-y, y)\n",
    "        \n",
    "        \n",
    "N = int(input('Введите количество дисков: '))\n",
    "move(N, 1, 3) # перекладываем с 1 на 3"
   ]
  }
 ],
 "metadata": {
  "kernelspec": {
   "display_name": "Python 3 (ipykernel)",
   "language": "python",
   "name": "python3"
  },
  "language_info": {
   "codemirror_mode": {
    "name": "ipython",
    "version": 3
   },
   "file_extension": ".py",
   "mimetype": "text/x-python",
   "name": "python",
   "nbconvert_exporter": "python",
   "pygments_lexer": "ipython3",
   "version": "3.10.2"
  }
 },
 "nbformat": 4,
 "nbformat_minor": 5
}
