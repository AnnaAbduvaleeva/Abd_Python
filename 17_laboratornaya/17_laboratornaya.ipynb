{
 "cells": [
  {
   "cell_type": "markdown",
   "id": "d3f94249",
   "metadata": {},
   "source": [
    "## 1. Sum of numbers"
   ]
  },
  {
   "cell_type": "code",
   "execution_count": 4,
   "id": "537683bf",
   "metadata": {},
   "outputs": [],
   "source": [
    "summa = 0\n",
    "\n",
    "with open('numbers.txt') as file:\n",
    "    for line in file:\n",
    "        if line.strip() == '2':\n",
    "            summa += 2\n",
    "\n",
    "with open('answer.txt', 'w') as out_file:  # w - Режим только для записи\n",
    "    out_file.write(str(summa))"
   ]
  },
  {
   "cell_type": "markdown",
   "id": "c578420f",
   "metadata": {},
   "source": [
    "## 2. Python zen"
   ]
  },
  {
   "cell_type": "code",
   "execution_count": 7,
   "id": "a895ed29",
   "metadata": {},
   "outputs": [
    {
     "name": "stdout",
     "output_type": "stream",
     "text": [
      "Namespaces are one honking great idea -- let's do more of those!\n",
      "If the implementation is easy to explain, it may be a good idea.\n",
      "If the implementation is hard to explain, it's a bad idea.\n",
      "Although never is often better than *right* now.\n",
      "Now is better than never.\n",
      "Although that way may not be obvious at first unless you're Dutch.\n",
      "There should be one-- and preferably only one --obvious way to do it.\n",
      "In the face of ambiguity, refuse the temptation to guess.\n",
      "Unless explicitly silenced.\n",
      "Errors should never pass silently.\n",
      "Although practicality beats purity.\n",
      "Special cases aren't special enough to break the rules.\n",
      "Readability counts.\n",
      "Sparse is better than dense.\n",
      "Flat is better than nested.\n",
      "Complex is better than complicated.\n",
      "Simple is better than complex.\n",
      "Explicit is better than implicit.\n",
      "Beautiful is better than ugly.\n"
     ]
    }
   ],
   "source": [
    "file_data = []\n",
    "\n",
    "with open('zen.txt') as file:\n",
    "    for line in file:\n",
    "        file_data.append(line.strip())\n",
    "\n",
    "print(*(file_data[::-1]), sep='\\n')"
   ]
  },
  {
   "cell_type": "markdown",
   "id": "e1e74b86",
   "metadata": {},
   "source": [
    "## 3. Python zen #2"
   ]
  },
  {
   "cell_type": "code",
   "execution_count": 28,
   "id": "dfa1e85b",
   "metadata": {},
   "outputs": [
    {
     "name": "stdout",
     "output_type": "stream",
     "text": [
      "Число букв: 652\n",
      "Число слов: 137\n",
      "Число строк: 19\n",
      "Самая редкая буква: k\n"
     ]
    }
   ],
   "source": [
    "num_letters = 0\n",
    "num_words = 0\n",
    "num_lines = 0\n",
    "\n",
    "dictionary = {}\n",
    "\n",
    "with open('zen.txt') as file:\n",
    "    for line in file:\n",
    "        word_list = line.strip().split()  # разбили данные строки на слова\n",
    "        for word in word_list:\n",
    "            for letter in word.lower():  # разбили слова на буквы\n",
    "                if letter.isalpha():  # не рассматриваем знаки препинания\n",
    "                    if letter in dictionary:\n",
    "                        dictionary[letter] += 1\n",
    "                    else:\n",
    "                        dictionary[letter] = 1\n",
    "                    num_letters += 1\n",
    "            num_words += 1\n",
    "        num_lines += 1\n",
    "\n",
    "print('Число букв:', num_letters)\n",
    "print('Число слов:', num_words)\n",
    "print('Число строк:', num_lines)\n",
    "\n",
    "min_num_words = min([value for value in dictionary.values()])\n",
    "print('Самая редкая буква:', *(key for key in dictionary.keys() if dictionary[key] == min_num_words))"
   ]
  },
  {
   "cell_type": "markdown",
   "id": "334b7c33",
   "metadata": {},
   "source": [
    "## 4. Files and folders"
   ]
  },
  {
   "cell_type": "code",
   "execution_count": 7,
   "id": "10ff00f0",
   "metadata": {},
   "outputs": [
    {
     "name": "stdout",
     "output_type": "stream",
     "text": [
      "126916.0263671875\n",
      "Размер каталога (в Кб): 126916.0263671875\n",
      "Количество подкаталогов: 20\n",
      "Количество файлов: 18\n"
     ]
    }
   ],
   "source": [
    "import os\n",
    "from os.path import join, getsize\n",
    " \n",
    "    \n",
    "path, dirs1, files = next(os.walk('C:\\\\Users\\\\АВА\\\\Desktop\\\\Python'))\n",
    "\n",
    "summa = 0\n",
    "for root, dirs, files in os.walk('C:\\\\Users\\\\АВА\\\\Desktop\\\\Python'):\n",
    "    summa += sum(getsize(join(root, name)) for name in files)\n",
    "print(summa / 1024)  \n",
    "\n",
    "\n",
    "print('Размер каталога (в Кб):', summa / 1024)\n",
    "print('Количество подкаталогов:', len(dirs1))\n",
    "print('Количество файлов:', len(files))"
   ]
  },
  {
   "cell_type": "markdown",
   "id": "80e614e1",
   "metadata": {},
   "source": [
    "## 5.  Saving"
   ]
  },
  {
   "cell_type": "code",
   "execution_count": 57,
   "id": "7439072d",
   "metadata": {
    "scrolled": true
   },
   "outputs": [
    {
     "name": "stdout",
     "output_type": "stream",
     "text": [
      "Введите строку: Hello, World!\n",
      "Куда хотите сохранить документ? Введите последовательность папок (через пробел):\n",
      "Users АВА Desktop Python 17_laboratornaya\n",
      "Введите имя файла:text.txt\n",
      "Вы действительно хотите перезаписать файл? да\n",
      "Файл успешно перезаписан!\n",
      "Содержимое файла:\n",
      "Hello, World!\n"
     ]
    }
   ],
   "source": [
    "import os\n",
    "from os.path import exists, isdir\n",
    "\n",
    "    \n",
    "your_str = input('Введите строку: ')\n",
    "path = input('Куда хотите сохранить документ? Введите последовательность папок (через пробел):\\n')\n",
    "file_name = input('Введите имя файла:')\n",
    "\n",
    "path = str('C:/' + path.replace(' ', '/'))\n",
    "if isdir(path):\n",
    "    path = str(path + '/' + file_name)\n",
    "    if exists(path):\n",
    "        s = input('Вы действительно хотите перезаписать файл? ')\n",
    "        if s == 'да':\n",
    "            with open(path, 'w') as file:\n",
    "                file.write(your_str)\n",
    "                print('Файл успешно перезаписан!')\n",
    "        else:\n",
    "            print('Отмена.')\n",
    "    else:\n",
    "        with open(path, 'w') as file:\n",
    "            file.write(your_str)\n",
    "            print('Файл успешно сохранён!')\n",
    "        \n",
    "    with open(path) as out_file:\n",
    "        print('Содержимое файла:')\n",
    "        print(out_file.read())\n",
    "else:\n",
    "    print('Указанный путь не существует.')"
   ]
  },
  {
   "cell_type": "markdown",
   "id": "d41b21f4",
   "metadata": {},
   "source": [
    "## 6. Paranoia"
   ]
  },
  {
   "cell_type": "code",
   "execution_count": 26,
   "id": "288a75a0",
   "metadata": {},
   "outputs": [
    {
     "name": "stdout",
     "output_type": "stream",
     "text": [
      "Ifmmpp\n",
      "Jgnnqq\n",
      "Khoorr\n",
      "Lippss\n"
     ]
    }
   ],
   "source": [
    "lst_lines = []\n",
    "with open('text2.txt') as file:\n",
    "    for line in file:\n",
    "        lst_lines.append(line)\n",
    "        \n",
    "        \n",
    "def cryptographer(word_f, shift):\n",
    "    abc = ['a', 'b', 'c', 'd', 'e', 'f', 'g', 'h', 'i', 'j', 'k', 'l', 'm', 'n', 'o', 'p',\n",
    "           'q', 'r', 's', 't', 'u', 'v', 'w', 'x', 'y', 'z']\n",
    "    ABC = ['A', 'B', 'C', 'D', 'E', 'F', 'G', 'H', 'I', 'J', 'K', 'L', 'M', 'N', 'O', 'P',\n",
    "           'Q', 'R', 'S', 'T', 'U', 'V', 'W', 'X', 'Y', 'Z']\n",
    "    new_word = []\n",
    "    f = 0\n",
    "    word_f = list(word_f)\n",
    "    for i in range(len(word_f)):\n",
    "        for j in range(len(abc)):\n",
    "            if word_f[i] == abc[j]:\n",
    "                f = -1\n",
    "                index = j\n",
    "        for j in range(len(ABC)):\n",
    "            if word_f[i] == ABC[j]:\n",
    "                f = 1\n",
    "                index = j\n",
    "        if f == -1:\n",
    "            new_word.append(abc[(index + shift) % 26])\n",
    "        elif f == 1:\n",
    "            new_word.append(ABC[(index + shift) % 26])\n",
    "        else:\n",
    "            new_word.append(word_f[i])\n",
    "    return ''.join(new_word)\n",
    "\n",
    "        \n",
    "with open('cipher_text.txt', 'w') as file_out:\n",
    "    for i in range(len(lst_lines)):\n",
    "        file_out.write(str(cryptographer(lst_lines[i], i + 1) + '\\n'))\n",
    "        print(str(cryptographer(lst_lines[i], i + 1)))"
   ]
  },
  {
   "cell_type": "markdown",
   "id": "f98ddc32",
   "metadata": {},
   "source": [
    "## 7. Tournament"
   ]
  },
  {
   "cell_type": "code",
   "execution_count": 60,
   "id": "e1a13c77",
   "metadata": {},
   "outputs": [],
   "source": [
    "tournament_data = []\n",
    "\n",
    "with open('first_tour.txt') as file:\n",
    "    K = int(file.readline().strip())\n",
    "    for line in file:\n",
    "        tournament_data.append([elem for elem in line.strip().split(' ')])\n",
    "\n",
    "data_new = []\n",
    "for people in tournament_data:\n",
    "    if int(people[2]) > K:\n",
    "        data_new.append(people)\n",
    "        people[1] = str(people[1][0] + '.')\n",
    "        people[0], people[2] = people[2], people[0]\n",
    "data_new.sort(reverse=True)\n",
    "\n",
    "with open('second_tour.txt', 'w') as file_out:\n",
    "    file_out.write(str(len(data_new)) + '\\n')\n",
    "    for i in range(len(data_new)):\n",
    "        file_out.write(str(i+1) + ') ')\n",
    "        file_out.write(str(data_new[i][1]) + ' ')\n",
    "        file_out.write(str(data_new[i][2]) + ' ')\n",
    "        file_out.write(str(data_new[i][0]) + '\\n')"
   ]
  },
  {
   "cell_type": "markdown",
   "id": "a7d60f7e",
   "metadata": {},
   "source": [
    "## 8. Frequecy analysis"
   ]
  },
  {
   "cell_type": "code",
   "execution_count": 9,
   "id": "37d8d624",
   "metadata": {},
   "outputs": [],
   "source": [
    "with open('text3.txt') as file:\n",
    "    my_str = file.read().strip().lower()\n",
    "\n",
    "dictionary = {}\n",
    "for i in range(len(my_str)):\n",
    "    if my_str[i].isalpha():\n",
    "        if my_str[i] in dictionary:\n",
    "            dictionary[my_str[i]] += 1\n",
    "        else:\n",
    "            dictionary[my_str[i]] = 1\n",
    "\n",
    "data = []\n",
    "for i in range(max(dictionary.values()), 0, -1):\n",
    "    lst_help = [str(i)]\n",
    "    for key in dictionary.keys():\n",
    "        if i == dictionary[key]:\n",
    "            lst_help.append(key)\n",
    "    if len(lst_help) > 1:\n",
    "        data.append(lst_help)\n",
    "\n",
    "for i in range(len(data)):\n",
    "    data[i].sort()\n",
    "\n",
    "num_of_words = 0\n",
    "for value in dictionary.values():\n",
    "    num_of_words += int(value)\n",
    "\n",
    "with open('analysis.txt', 'w') as ouf:\n",
    "    for elem in data:\n",
    "        for i in range(1, len(elem)):\n",
    "            ouf.write(elem[i] + ' ')\n",
    "            ouf.write(str(round(int(elem[0]) / num_of_words, 3)) + '\\n')"
   ]
  },
  {
   "cell_type": "markdown",
   "id": "44473ffc",
   "metadata": {},
   "source": [
    "## 9. War and Peace"
   ]
  },
  {
   "cell_type": "code",
   "execution_count": 70,
   "id": "5931054c",
   "metadata": {},
   "outputs": [],
   "source": [
    "import zipfile\n",
    "import os\n",
    "\n",
    "\n",
    "path = os.path.join('voyna-i-mir', 'voyna-i-mir.txt')\n",
    "archive = 'voyna-i-mir.zip'\n",
    "with zipfile.ZipFile(archive, 'r') as zip_file:\n",
    "    zip_file.extractall(r'voyna-i-mir')\n",
    "    f = open(path, encoding='utf-8')\n",
    "    f.close()\n",
    "\n",
    "alphabet = {}\n",
    "    \n",
    "with open(path, encoding='utf-8') as inf:\n",
    "    for letter in inf.read():\n",
    "        if letter.isalpha():\n",
    "            if letter in alphabet:\n",
    "                alphabet[letter] += 1\n",
    "            else:\n",
    "                alphabet[letter] = 1\n",
    "\n",
    "data = []\n",
    "for key in alphabet:\n",
    "    data.append([alphabet[key], key])\n",
    "data.sort()\n",
    "\n",
    "with open('results.txt', 'w') as ouf:\n",
    "    for elem in data:\n",
    "        ouf.write(str(elem[1]) + ' - ')\n",
    "        ouf.write(str(elem[0]) + '\\n')"
   ]
  }
 ],
 "metadata": {
  "kernelspec": {
   "display_name": "Python 3 (ipykernel)",
   "language": "python",
   "name": "python3"
  },
  "language_info": {
   "codemirror_mode": {
    "name": "ipython",
    "version": 3
   },
   "file_extension": ".py",
   "mimetype": "text/x-python",
   "name": "python",
   "nbconvert_exporter": "python",
   "pygments_lexer": "ipython3",
   "version": "3.10.2"
  }
 },
 "nbformat": 4,
 "nbformat_minor": 5
}
