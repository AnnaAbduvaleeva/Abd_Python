{
 "cells": [
  {
   "cell_type": "markdown",
   "id": "3a9de7f2",
   "metadata": {},
   "source": [
    "## 1. Names"
   ]
  },
  {
   "cell_type": "code",
   "execution_count": 1,
   "id": "5ea1735e",
   "metadata": {},
   "outputs": [
    {
     "name": "stdout",
     "output_type": "stream",
     "text": [
      "Error in line 3\n",
      "Error in line 6\n",
      "Error in line 7\n",
      "Общее количество символов: 21\n"
     ]
    }
   ],
   "source": [
    "summa = 0\n",
    "line_num = 0\n",
    "errors = []\n",
    "with open('people.txt', encoding='utf-8') as file:\n",
    "    for line in file:\n",
    "        line_num += 1\n",
    "        if len(line.strip()) >= 3:\n",
    "            summa += len(line.strip())\n",
    "        else:\n",
    "            print('Error in line', line_num)\n",
    "            errors.append('Error in line ' + str(line_num))\n",
    "            \n",
    "print('Общее количество символов:', summa)\n",
    "\n",
    "with open('errors.log', 'w') as out_file:\n",
    "    for elem in errors:\n",
    "        out_file.write(elem + '\\n')"
   ]
  },
  {
   "cell_type": "markdown",
   "id": "7c900619",
   "metadata": {},
   "source": [
    "## 2. Coordinates"
   ]
  },
  {
   "cell_type": "code",
   "execution_count": 13,
   "id": "2ecc338b",
   "metadata": {},
   "outputs": [
    {
     "name": "stdout",
     "output_type": "stream",
     "text": [
      "Что-то пошло не так с функцией\n",
      "[1.0, 2.0, 42]\n",
      "[-6.0, 1.7142857142857142, 59]\n",
      "[0.5, 3.0, 88]\n",
      "[-1.0, 0.9166666666666666, 17]\n",
      "Что-то пошло не так с функцией\n"
     ]
    }
   ],
   "source": [
    "import random\n",
    "\n",
    "\n",
    "def f(x, y):\n",
    "    x += random.randint(0, 10)\n",
    "    y += random.randint(0, 5)\n",
    "    return x / y\n",
    "\n",
    "\n",
    "def f2(x, y):\n",
    "    x -= random.randint(0, 10)\n",
    "    y -= random.randint(0, 5)\n",
    "    return y / x\n",
    "\n",
    "try:\n",
    "    file = open('coordinates.txt', 'r')\n",
    "    for line in file:\n",
    "        nums_list = line.split()\n",
    "        try:\n",
    "            res1 = f(int(nums_list[0]), int(nums_list[1]))\n",
    "            res2 = f2(int(nums_list[0]), int(nums_list[1]))\n",
    "            try:\n",
    "                number = random.randint(0, 100)\n",
    "                my_list = sorted([res1, res2, number])\n",
    "                print(my_list)\n",
    "                file_2 = open('result.txt', 'a')\n",
    "                file_2.write(' '.join(map(str, my_list)))\n",
    "                file_2.write('\\n')\n",
    "            except Exception:\n",
    "                print(\"Что-то пошло не так\")\n",
    "            finally:\n",
    "                file_2.close()\n",
    "        except Exception:\n",
    "            print(\"Что-то пошло не так с функцией\")\n",
    "        \n",
    "except FileNotFoundError:\n",
    "    print(\"Файл не найден!\")\n",
    "finally:\n",
    "    file.close()"
   ]
  },
  {
   "cell_type": "markdown",
   "id": "7813029e",
   "metadata": {},
   "source": [
    "## 3. Lucky number"
   ]
  },
  {
   "cell_type": "code",
   "execution_count": 4,
   "id": "2458c127",
   "metadata": {},
   "outputs": [
    {
     "name": "stdout",
     "output_type": "stream",
     "text": [
      "Введите число: 6546\n"
     ]
    }
   ],
   "source": [
    "import random\n",
    "\n",
    "\n",
    "summa = 0\n",
    "while summa < 777:\n",
    "    num = int(input('Введите число: '))\n",
    "    summa += num\n",
    "    try:\n",
    "        file = open('lucky_number.txt', 'a')\n",
    "        if 1 == random.randint(1, 13):\n",
    "            raise BaseException('Не повезло')\n",
    "            break\n",
    "        file.write(str(num) + '\\n')\n",
    "    finally:\n",
    "        file.close()"
   ]
  },
  {
   "cell_type": "markdown",
   "id": "3cbca8a2",
   "metadata": {},
   "source": [
    "## 4. Registration"
   ]
  },
  {
   "cell_type": "code",
   "execution_count": 29,
   "id": "4bedd971",
   "metadata": {},
   "outputs": [],
   "source": [
    "def check_line(line):\n",
    "    if len(line.strip().split()) != 3:\n",
    "        raise ValueError\n",
    "    if not line.strip().split()[0].isalpha():\n",
    "        raise NameError\n",
    "    counter = 0\n",
    "    for elem in line.strip().split()[1]:\n",
    "        if elem == '@' or elem == '.':\n",
    "            counter += 1\n",
    "    if counter < 2:\n",
    "        raise SyntaxError\n",
    "    if int(line.strip().split()[2]) < 10 or int(line.strip().split()[2]) > 99:\n",
    "        raise ValueError\n",
    "        \n",
    "        \n",
    "registrations_good = []\n",
    "registrations_bad = []\n",
    "with open('registrations.txt', encoding='utf-8') as inf:\n",
    "    for line in inf:\n",
    "        try:\n",
    "            check_line(line)\n",
    "        except ValueError:\n",
    "            registrations_bad.append(str(line.strip()) + ' - ValueError')\n",
    "        except NameError:\n",
    "            registrations_bad.append(str(line.strip()) + ' - NameError')\n",
    "        except SyntaxError:\n",
    "            registrations_bad.append(str(line.strip()) + ' - SyntaxError')\n",
    "        else:\n",
    "            registrations_good.append(str(line.strip()))\n",
    "\n",
    "with open('registrations_good.log', 'w') as ouf:\n",
    "    for elem in registrations_good:\n",
    "        ouf.write(str(elem) + '\\n')\n",
    "\n",
    "with open('registrations_bad.log', 'w') as ouf:\n",
    "    for elem in registrations_bad:\n",
    "        ouf.write(str(elem) + '\\n')"
   ]
  },
  {
   "cell_type": "markdown",
   "id": "2072a5bd",
   "metadata": {},
   "source": [
    "## 5. Text Calculator"
   ]
  },
  {
   "cell_type": "code",
   "execution_count": 49,
   "id": "28371a6a",
   "metadata": {},
   "outputs": [
    {
     "name": "stdout",
     "output_type": "stream",
     "text": [
      "Division by zero in line 8\n",
      "Operand error in line 9\n",
      "Sum of results: 13021.75\n"
     ]
    }
   ],
   "source": [
    "def check_line(line):\n",
    "    operations = ['+', '-', '*', '/', '//', '%']\n",
    "    line = line.strip().split()\n",
    "    if line[1] not in operations:\n",
    "        raise SyntaxError\n",
    "    if line[1] == '/' and line[2] == '0':\n",
    "        raise ZeroDivisionError\n",
    "    if not (line[0].isdigit()) or not (line[2].isdigit()):\n",
    "        raise ValueError\n",
    "        \n",
    "\n",
    "def calc(line):\n",
    "    operations = ['+', '-', '*', '/', '//', '%']\n",
    "    if line[1] == '+':\n",
    "        return int(line[0]) + int(line[2])\n",
    "    if line[1] == '-':\n",
    "        return int(line[0]) - int(line[2])\n",
    "    if line[1] == '*':\n",
    "        return int(line[0]) * int(line[2])\n",
    "    if line[1] == '/':\n",
    "        return int(line[0]) / int(line[2])\n",
    "    if line[1] == '//':\n",
    "        return int(line[0]) // int(line[2])\n",
    "    if line[1] == '%':\n",
    "        return int(line[0]) % int(line[2])\n",
    "\n",
    "\n",
    "summa = 0\n",
    "num_line = 0\n",
    "with open('calc.txt') as file:\n",
    "    for line in file:\n",
    "        try:\n",
    "            num_line += 1\n",
    "            check_line(line)\n",
    "        except SyntaxError:\n",
    "            print('Invalid operation in line', num_line)\n",
    "        except ZeroDivisionError:\n",
    "            print('Division by zero in line', num_line)\n",
    "        except ValueError:\n",
    "            print('Operand error in line', num_line)\n",
    "        else:\n",
    "            line = line.strip().split()\n",
    "            summa += calc(line)\n",
    "print('Sum of results:', summa)"
   ]
  },
  {
   "cell_type": "markdown",
   "id": "2b9d9043",
   "metadata": {},
   "source": [
    "## 6. Chat"
   ]
  },
  {
   "cell_type": "code",
   "execution_count": 6,
   "id": "8e35227f",
   "metadata": {},
   "outputs": [
    {
     "name": "stdout",
     "output_type": "stream",
     "text": [
      "Введите имя: Анна\n",
      "Выйти из чата - 0.\n",
      "Посмотреть текущий текст чата - 1.\n",
      "Отправить сообщение - 2.\n",
      "2\n",
      "Введите сообщение: Привет\n",
      "\n",
      "Введите имя: Дмитрий\n",
      "Выйти из чата - 0.\n",
      "Посмотреть текущий текст чата - 1.\n",
      "Отправить сообщение - 2.\n",
      "Привет)\n",
      "Такого действия нет.\n",
      "\n",
      "Введите имя: Дмитрий\n",
      "Выйти из чата - 0.\n",
      "Посмотреть текущий текст чата - 1.\n",
      "Отправить сообщение - 2.\n",
      "2\n",
      "Введите сообщение: Как дела\n",
      "\n",
      "Введите имя: Анна\n",
      "Выйти из чата - 0.\n",
      "Посмотреть текущий текст чата - 1.\n",
      "Отправить сообщение - 2.\n",
      "2\n",
      "Введите сообщение: Супер\n",
      "\n",
      "Введите имя: Анна\n",
      "Выйти из чата - 0.\n",
      "Посмотреть текущий текст чата - 1.\n",
      "Отправить сообщение - 2.\n",
      "0\n",
      "Выход из чата.\n"
     ]
    }
   ],
   "source": [
    "name = input('Введите имя: ')\n",
    "print('Выйти из чата - 0.')\n",
    "print('Посмотреть текущий текст чата - 1.')\n",
    "print('Отправить сообщение - 2.')\n",
    "ans = input()\n",
    "while ans != '0':\n",
    "    if ans == '1':\n",
    "        try:\n",
    "            with open('chat.txt') as inf:\n",
    "                for message in inf:\n",
    "                    print(message, end='')\n",
    "        except FileNotFoundError:\n",
    "            print('Сообщений нет.')\n",
    "    elif ans == '2':\n",
    "        message = input('Введите сообщение: ')\n",
    "        with open('chat.txt', 'a') as ouf:\n",
    "            ouf.write(name + ': ' + message + '\\n')\n",
    "    else:\n",
    "        print('Такого действия нет.')\n",
    "    \n",
    "    name = input('\\nВведите имя: ')\n",
    "    print('Выйти из чата - 0.')\n",
    "    print('Посмотреть текущий текст чата - 1.')\n",
    "    print('Отправить сообщение - 2.')\n",
    "    ans = input()\n",
    "print('Выход из чата.')"
   ]
  },
  {
   "cell_type": "markdown",
   "id": "9cf378dd",
   "metadata": {},
   "source": [
    "## 7. Text Calculator #2"
   ]
  },
  {
   "cell_type": "code",
   "execution_count": 12,
   "id": "b312cd59",
   "metadata": {},
   "outputs": [
    {
     "name": "stdout",
     "output_type": "stream",
     "text": [
      "Обнаружена ошибка в строке 100 / 0\n",
      " Хотите исправить? да\n",
      "Введите исправленную строку: 100 / 2\n",
      "Обнаружена ошибка в строке 234g + 65 Хотите исправить? да\n",
      "Введите исправленную строку: 234 + 65\n",
      "Сумма результатов: 13370.75\n"
     ]
    }
   ],
   "source": [
    "def check_line(line):\n",
    "    operations = ['+', '-', '*', '/', '//', '%']\n",
    "    line = line.strip().split()\n",
    "    if line[1] not in operations:\n",
    "        raise SyntaxError\n",
    "    if line[1] == '/' and line[2] == '0':\n",
    "        raise ZeroDivisionError\n",
    "    if not (line[0].isdigit()) or not (line[2].isdigit()):\n",
    "        raise ValueError\n",
    "        \n",
    "\n",
    "def calc(line):\n",
    "    operations = ['+', '-', '*', '/', '//', '%']\n",
    "    if line[1] == '+':\n",
    "        return int(line[0]) + int(line[2])\n",
    "    if line[1] == '-':\n",
    "        return int(line[0]) - int(line[2])\n",
    "    if line[1] == '*':\n",
    "        return int(line[0]) * int(line[2])\n",
    "    if line[1] == '/':\n",
    "        return int(line[0]) / int(line[2])\n",
    "    if line[1] == '//':\n",
    "        return int(line[0]) // int(line[2])\n",
    "    if line[1] == '%':\n",
    "        return int(line[0]) % int(line[2])\n",
    "\n",
    "\n",
    "data_file = []\n",
    "with open('calc.txt') as file:\n",
    "    for line in file:\n",
    "        try:\n",
    "            check_line(line)\n",
    "        except SyntaxError:\n",
    "            print('Обнаружена ошибка в строке', line, end=' ')\n",
    "            ans = input('Хотите исправить? ')\n",
    "            if ans == 'да':\n",
    "                data_file.append(input('Введите исправленную строку: '))\n",
    "        except ZeroDivisionError:\n",
    "            print('Обнаружена ошибка в строке', line, end=' ')\n",
    "            ans = input('Хотите исправить? ')\n",
    "            if ans == 'да':\n",
    "                data_file.append(input('Введите исправленную строку: '))\n",
    "        except ValueError:\n",
    "            print('Обнаружена ошибка в строке', line, end=' ')\n",
    "            ans = input('Хотите исправить? ')\n",
    "            if ans == 'да':\n",
    "                data_file.append(input('Введите исправленную строку: '))\n",
    "        else:\n",
    "            data_file.append(line)\n",
    "\n",
    "summa = 0\n",
    "for line in data_file:\n",
    "    line = line.strip().split()\n",
    "    summa += calc(line)\n",
    "print('Сумма результатов:', summa)"
   ]
  }
 ],
 "metadata": {
  "kernelspec": {
   "display_name": "Python 3 (ipykernel)",
   "language": "python",
   "name": "python3"
  },
  "language_info": {
   "codemirror_mode": {
    "name": "ipython",
    "version": 3
   },
   "file_extension": ".py",
   "mimetype": "text/x-python",
   "name": "python",
   "nbconvert_exporter": "python",
   "pygments_lexer": "ipython3",
   "version": "3.10.2"
  }
 },
 "nbformat": 4,
 "nbformat_minor": 5
}
