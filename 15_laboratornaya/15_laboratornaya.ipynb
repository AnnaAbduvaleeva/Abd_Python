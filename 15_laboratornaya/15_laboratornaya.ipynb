{
 "cells": [
  {
   "cell_type": "markdown",
   "id": "5f573234",
   "metadata": {},
   "source": [
    "## 1. Code review"
   ]
  },
  {
   "cell_type": "code",
   "execution_count": 1,
   "id": "76ecf849",
   "metadata": {},
   "outputs": [
    {
     "name": "stdout",
     "output_type": "stream",
     "text": [
      "ID студента - возраст: 1 - 23 , 2 - 24 , 3 - 22\n",
      "Интересы: ['biology, swimming', 'math', 'computer games', 'running', 'languages', 'health food']\n",
      "Общая длина фамилий: 20\n"
     ]
    }
   ],
   "source": [
    "students = {\n",
    "    1:{\n",
    "        'name': 'Bob',\n",
    "        'surname': 'Vazovski',\n",
    "        'age': 23,\n",
    "        'interests': ['biology, swimming']\n",
    "    },\n",
    "    2: {\n",
    "        'name': 'Rob',\n",
    "        'surname': 'Stepanov',\n",
    "        'age': 24,\n",
    "        'interests': ['math', 'computer games', 'running']\n",
    "    },\n",
    "    3: {\n",
    "        'name': 'Alexander',\n",
    "        'surname': 'Krug',\n",
    "        'age': 22,\n",
    "        'interests': ['languages', 'health food']\n",
    "    }\n",
    "}\n",
    "\n",
    "\n",
    "def interests_and_len(dict_st):\n",
    "    lst_interests = []\n",
    "    cnt = 0\n",
    "    for id in dict_st:\n",
    "        lst_interests += (dict_st[id]['interests'])\n",
    "        cnt += len(dict_st[id]['surname']) \n",
    "    return lst_interests, cnt\n",
    "    \n",
    "\n",
    "pairs = []\n",
    "for id in students:\n",
    "    pairs += (id, '-', students[id]['age'], ',')\n",
    "print('ID студента - возраст:', *pairs[:-1])\n",
    "my_lst = interests_and_len(students)[0]\n",
    "l = interests_and_len(students)[1]\n",
    "print('Интересы:', my_lst)\n",
    "print('Общая длина фамилий:', l)"
   ]
  },
  {
   "cell_type": "markdown",
   "id": "b0ab0202",
   "metadata": {},
   "source": [
    "## 2. Universal program"
   ]
  },
  {
   "cell_type": "code",
   "execution_count": 2,
   "id": "d7a4f80b",
   "metadata": {},
   "outputs": [
    {
     "name": "stdout",
     "output_type": "stream",
     "text": [
      "[1, 2, 3, 5, 7]\n"
     ]
    }
   ],
   "source": [
    "obj = [0, 1, 2, 3, 4, 5, 6, 7, 8, 9, 10]\n",
    "\n",
    "def is_prime(num):\n",
    "    if num == 2:\n",
    "        return True\n",
    "    if num % 2 == 0:\n",
    "        return False\n",
    "    flag = True\n",
    "    for i in range(3, int(num**0.5) + 1, 2):\n",
    "        if num % i == 0:\n",
    "            flag = False\n",
    "    return flag\n",
    "\n",
    "\n",
    "def prime_index(ob):\n",
    "    return [ob[i] for i in range(len(obj)) if is_prime(i)]\n",
    "\n",
    "\n",
    "new_obj = prime_index(obj)\n",
    "print(new_obj)"
   ]
  },
  {
   "cell_type": "markdown",
   "id": "788261c4",
   "metadata": {},
   "source": [
    "## 3. Function"
   ]
  },
  {
   "cell_type": "code",
   "execution_count": null,
   "id": "8fca1e00",
   "metadata": {},
   "outputs": [],
   "source": [
    "def func(my_tuple, elem):\n",
    "    lst = list(my_tuple)\n",
    "    if elem.isdigit():\n",
    "        elem = int(elem)\n",
    "    if elem not in my_tuple:\n",
    "        new_tuple = ()\n",
    "    else:\n",
    "        index_start = 0\n",
    "        index_finish = len(lst) - 1\n",
    "        for i in range(len(lst)):\n",
    "            if lst[i] == elem:\n",
    "                index_start = i\n",
    "                for k in range(i, len(lst)):\n",
    "                    if lst[k] == elem:\n",
    "                        index_finish = k\n",
    "                break\n",
    "        if index_start == index_finish:\n",
    "            new_tuple = [my_tuple[i] for i in range(index_start, len(my_tuple))]\n",
    "        else:\n",
    "            new_tuple = [my_tuple[i] for i in range(index_start , index_finish + 1)]\n",
    "    return tuple(new_tuple)\n",
    "\n",
    "\n",
    "my_tuple = (78, 'f', 0, 'g', 5, '%', 'f', '!', 'f', 2, 'h', 8)\n",
    "elem = input(\"Введите элемент: \")\n",
    "print(func(my_tuple, elem))"
   ]
  },
  {
   "cell_type": "markdown",
   "id": "515ed62a",
   "metadata": {},
   "source": [
    "## 4. Players"
   ]
  },
  {
   "cell_type": "code",
   "execution_count": null,
   "id": "636f84ad",
   "metadata": {},
   "outputs": [],
   "source": [
    "players = {\n",
    "    (\"Ivan\", \"Volkin\"): (10, 5, 13),\n",
    "    (\"Bob\", \"Robbin\"): (7, 5, 14),\n",
    "    (\"Rob\", \"Bobbin\"): (12, 8, 2)\n",
    "}\n",
    "\n",
    "lst_new = [key + value for key, value in players.items()] \n",
    "print(lst_new)"
   ]
  },
  {
   "cell_type": "markdown",
   "id": "ae3619f0",
   "metadata": {},
   "source": [
    "## 5. One family"
   ]
  },
  {
   "cell_type": "code",
   "execution_count": null,
   "id": "4dfd3cfe",
   "metadata": {},
   "outputs": [],
   "source": [
    "my_dict = {\n",
    "    ('Сидоров', 'Никита'): 35,\n",
    "    ('Сидорова', 'Алина'): 34,\n",
    "    ('Сидоров', 'Павел'): 10,\n",
    "    ('Пономарев', 'Владимир'): 41,\n",
    "    ('Пономарева', 'Мария'): 40,\n",
    "    ('Пономарева', 'Анна'): 21,\n",
    "    ('Пономарева', 'Ксения'): 16,\n",
    "    ('Пономарева', 'Вера'): 0\n",
    "}\n",
    "\n",
    "s = input('Введите фамилию: ').lower()\n",
    "for surname in my_dict.keys():\n",
    "    if surname[0].lower() == s or (surname[0].lower()) == s + 'а' or (surname[0].lower()) == s[:-1]:\n",
    "        print(surname[0], surname[1], my_dict[surname])"
   ]
  },
  {
   "cell_type": "markdown",
   "id": "325c3421",
   "metadata": {},
   "source": [
    "## 6. In pairs"
   ]
  },
  {
   "cell_type": "code",
   "execution_count": null,
   "id": "76c7e2a0",
   "metadata": {},
   "outputs": [],
   "source": [
    "lst = [i for i in range(10)]\n",
    "\n",
    "lst_new = []\n",
    "for i in range(0, len(lst) - 1, 2):\n",
    "    lst_new.append(tuple([lst[i], lst[i + 1]]))\n",
    "print(lst_new)\n",
    "\n",
    "lst_new = [tuple([lst[i], lst[i + 1]]) for i in range(0, len(lst) - 1, 2)]\n",
    "print(lst_new)"
   ]
  },
  {
   "cell_type": "markdown",
   "id": "f3da8315",
   "metadata": {},
   "source": [
    "## 7. Sort function"
   ]
  },
  {
   "cell_type": "code",
   "execution_count": null,
   "id": "96e921ef",
   "metadata": {},
   "outputs": [],
   "source": [
    "def sort_tuple(tupple):\n",
    "    flag = 0\n",
    "    for elem in tupple:\n",
    "        if int(elem) != elem:\n",
    "            flag = 1\n",
    "    if flag == 1:\n",
    "        return tupple\n",
    "    else:\n",
    "        lst = list(tupple)\n",
    "        lst.sort()\n",
    "        return(tuple(lst))\n",
    "\n",
    "\n",
    "tuple_example = (3, 5, 3, 7, 9, 1, 6, 0, 13)\n",
    "print(sort_tuple(tuple_example))\n",
    "\n",
    "tuple_example = (5, 6, 1, 0, 4.2, 5, 3, 9)\n",
    "print(sort_tuple(tuple_example))"
   ]
  },
  {
   "cell_type": "markdown",
   "id": "b3bb15e7",
   "metadata": {},
   "source": [
    "## 8. Contacts 3"
   ]
  },
  {
   "cell_type": "code",
   "execution_count": null,
   "id": "c4a8c601",
   "metadata": {},
   "outputs": [],
   "source": [
    "contacts = {}\n",
    "while True:\n",
    "    action = input('Введите действие: ')\n",
    "    \n",
    "    if action == 'Добавить контакт':\n",
    "        name = input('Введите имя контакта: ')\n",
    "        surname = input('Введите фамилию контакта: ')\n",
    "        phone_number = input('Введите номер телефона: ')\n",
    "        if (name, surname) in contacts:\n",
    "            print('Контакт уже есть в телефонной книге')\n",
    "        else:\n",
    "            contacts[(name, surname)] = phone_number\n",
    "        print('Текущий словарь контактов:', contacts)\n",
    "    \n",
    "    if action == 'Поиск человека по фамилии':\n",
    "        surname = input('Введите фамилию контакта: ').lower()\n",
    "        for key in contacts.keys():\n",
    "            if key[1].lower() == surname:\n",
    "                print(key[0], key[1], '-', contacts[key])\n",
    "    \n",
    "    if action == 'Stop':\n",
    "        break"
   ]
  },
  {
   "cell_type": "markdown",
   "id": "ec6a8d74",
   "metadata": {},
   "source": [
    "## 9. Competition protocol"
   ]
  },
  {
   "cell_type": "code",
   "execution_count": 2,
   "id": "fffeaa3e",
   "metadata": {},
   "outputs": [
    {
     "name": "stdout",
     "output_type": "stream",
     "text": [
      "Общее количество строк протокола: 4\n",
      "Записи (результат и имя):\n",
      " 1 запись:12 1\n",
      " 2 запись:13 2\n",
      " 3 запись:13 1\n",
      " 4 запись:10 3\n",
      "[('1', [13, 0.3333333333333333]), ('2', [13, 0.5]), ('3', [10, 0.25])]\n",
      "[('2', [13, 0.5]), ('1', [13, 0.3333333333333333]), ('3', [10, 0.25])]\n",
      "\n",
      "Итоги соревнований: \n",
      " 1 место 2 ( 13)\n",
      " 2 место 1 ( 13)\n",
      " 3 место 3 ( 10)\n"
     ]
    }
   ],
   "source": [
    "from operator import itemgetter\n",
    "\n",
    "score_table = {}\n",
    "number_rows = int(input('Общее количество строк протокола: '))\n",
    "print('Записи (результат и имя): ')\n",
    "for i in range(1, number_rows+1):\n",
    "    ball, name = input(' {0} запись:'.format(i)).split()\n",
    "    ball = int(ball)\n",
    "    if name in score_table:\n",
    "        if ball > score_table[name][0]:\n",
    "            score_table[name][0] = ball\n",
    "            score_table[name][1] = 1 / i\n",
    "    else:\n",
    "        score_table[name] = [ball, 1/i]\n",
    "scores = list(score_table.items())\n",
    "\n",
    "scores = sorted(scores, key=itemgetter(1), reverse = True)\n",
    "print('\\nИтоги соревнований: ')\n",
    "for i in (0, 1, 2):\n",
    "    print(f' {i+1} место: {scores[i][0]}', end=' ')\n",
    "    print(f'( {scores[i][1][0] })', sep='')"
   ]
  },
  {
   "cell_type": "markdown",
   "id": "c05b46cc",
   "metadata": {},
   "source": [
    "## 10. Own zip function"
   ]
  },
  {
   "cell_type": "code",
   "execution_count": null,
   "id": "f941f2f1",
   "metadata": {},
   "outputs": [],
   "source": [
    "my_str = 'abcde'\n",
    "my_tuple = (10, 20, 30, 40, 50)\n",
    "\n",
    "my_dict = {my_str[i]: my_tuple[i] for i in range(len(my_str))}\n",
    "\n",
    "print(((symbol, number) for symbol, number in my_dict.items()))\n",
    "print(*((symbol, number) for symbol, number in my_dict.items()), sep='\\n')"
   ]
  }
 ],
 "metadata": {
  "kernelspec": {
   "display_name": "Python 3 (ipykernel)",
   "language": "python",
   "name": "python3"
  },
  "language_info": {
   "codemirror_mode": {
    "name": "ipython",
    "version": 3
   },
   "file_extension": ".py",
   "mimetype": "text/x-python",
   "name": "python",
   "nbconvert_exporter": "python",
   "pygments_lexer": "ipython3",
   "version": "3.10.2"
  }
 },
 "nbformat": 4,
 "nbformat_minor": 5
}
